{
 "cells": [
  {
   "cell_type": "code",
   "execution_count": 1,
   "id": "6635c22d",
   "metadata": {},
   "outputs": [
    {
     "name": "stdout",
     "output_type": "stream",
     "text": [
      "Collecting mysql.connector\n",
      "  Using cached mysql-connector-2.2.9.tar.gz (11.9 MB)\n",
      "  Preparing metadata (setup.py): started\n",
      "  Preparing metadata (setup.py): finished with status 'done'\n",
      "Building wheels for collected packages: mysql.connector\n",
      "  Building wheel for mysql.connector (setup.py): started\n",
      "  Building wheel for mysql.connector (setup.py): finished with status 'done'\n",
      "  Created wheel for mysql.connector: filename=mysql_connector-2.2.9-cp311-cp311-win_amd64.whl size=247958 sha256=0fba18bd22a5a5549eb4921c8c9dc9836aab8bc20b7de3ff6ef9ea97c0c00a84\n",
      "  Stored in directory: c:\\users\\acer\\appdata\\local\\pip\\cache\\wheels\\17\\cd\\ed\\2d49e9bac69cf09382e4c7cc20a2511202b48324b87db26019\n",
      "Successfully built mysql.connector\n",
      "Installing collected packages: mysql.connector\n",
      "Successfully installed mysql.connector-2.2.9\n"
     ]
    }
   ],
   "source": [
    "!pip install mysql.connector"
   ]
  },
  {
   "cell_type": "code",
   "execution_count": 2,
   "id": "9d3735fe",
   "metadata": {
    "scrolled": true
   },
   "outputs": [
    {
     "name": "stdout",
     "output_type": "stream",
     "text": [
      "\n",
      " [INFO] Exiting Program and cleanup stuff\n"
     ]
    }
   ],
   "source": [
    "import face_recognition\n",
    "import os\n",
    "import cv2\n",
    "import mysql.connector\n",
    "from datetime import datetime\n",
    "\n",
    "# In[8]:\n",
    "\n",
    "\n",
    "known_faces_dir1 = r'missingPersonPic'\n",
    "TOLERANCE = 0.6\n",
    "FRAME_THICKNESS = 3\n",
    "FONT_THICKNESS = 2\n",
    "MODEL = \"cnn\"\n",
    "known_faces=[]\n",
    "known_names=[]\n",
    "location = \"RCPIT\"\n",
    "\n",
    "def dataAdd(fname):\n",
    "    #establishing the connection\n",
    "    conn = mysql.connector.connect(user='root', password='', host='127.0.0.1', database='missingpersonidentification')\n",
    "\n",
    "    #Creating a cursor object using the cursor() method\n",
    "    cursor = conn.cursor()\n",
    "\n",
    "    # Preparing SQL query to INSERT a record into the database.\n",
    "    sql = \"INSERT INTO findlog(name, location, typee, datee, timee) VALUES(%s, %s, %s, %s, %s)\"\n",
    "    \n",
    "    now = datetime.now()\n",
    "    datee = now.strftime(\"%d/%m/%Y\")\n",
    "    timee = now.strftime(\"%H:%M:%S\")\n",
    "    ftype = \"Detected\"\n",
    "\n",
    "    try:\n",
    "       # Executing the SQL command\n",
    "       val = (fname, location, ftype, datee, timee)\n",
    "       cursor.execute(sql, val)\n",
    "\n",
    "       # Commit your changes in the database\n",
    "       conn.commit()\n",
    "    \n",
    "    except:\n",
    "       # Rolling back in case of error\n",
    "       conn.rollback()\n",
    "        \n",
    "        \n",
    "for name in os.listdir(known_faces_dir1):\n",
    "    dir_path = os.path.join(known_faces_dir1, name)\n",
    "    if os.path.isdir(dir_path):\n",
    "        for filename in os.listdir(dir_path):\n",
    "            if not filename.startswith('.'): \n",
    "                filepath = os.path.join(dir_path, filename)\n",
    "                image= face_recognition.load_image_file(f\"{known_faces_dir1}/{name}/{filename}\")\n",
    "                encoding=face_recognition.face_encodings(image)[0]\n",
    "                known_faces.append(encoding)\n",
    "                known_names.append(name)\n",
    "\n",
    "\n",
    "# In[10]:\n",
    "\n",
    "tempp=\"unknown\"\n",
    "video = cv2.VideoCapture(0)\n",
    "while(True) :\n",
    "    r,img = video.read()\n",
    "    #locations = face_recognition.face_locations(img,model = \"cnn\")\n",
    "    locations = face_recognition.face_locations(img,number_of_times_to_upsample=0,model = \"cnn\")\n",
    "    encodings= face_recognition.face_encodings(img, locations)\n",
    "    \n",
    "    for face_encoding, face_location in zip(encodings,locations):\n",
    "        results = face_recognition.compare_faces(known_faces,face_encoding,TOLERANCE)\n",
    "        match=None\n",
    "        if True in results:\n",
    "            match=known_names[results.index(True)]\n",
    "            cv2.rectangle(img,(face_location[3],face_location[0]),(face_location[1],face_location[2]),(0,255,0),3)\n",
    "            cv2.putText(img,match,(face_location[3]+10,face_location[2]+15),cv2.FONT_HERSHEY_SIMPLEX,1,(0,255,0),3)\n",
    "            if tempp!=match:\n",
    "                dataAdd(match)\n",
    "                tempp=match\n",
    "        else:\n",
    "            cv2.rectangle(img,(face_location[3],face_location[0]),(face_location[1],face_location[2]),(0,255,0),3)\n",
    "            cv2.putText(img,\"Unknown\",(face_location[3]+10,face_location[2]+15),cv2.FONT_HERSHEY_SIMPLEX,1,(0,255,0),3)\n",
    "            \n",
    "    cv2.imshow('img',img)\n",
    "    \n",
    "    if cv2.waitKey(27)==ord('q'):\n",
    "        break\n",
    "    \n",
    "video.release()\n",
    "cv2.destroyAllWindows()\n",
    "        \n",
    "    \n",
    "\n",
    "# Do a bit of cleanup\n",
    "print(\"\\n [INFO] Exiting Program and cleanup stuff\")\n",
    "video.release()"
   ]
  },
  {
   "cell_type": "code",
   "execution_count": null,
   "id": "0e43c823",
   "metadata": {},
   "outputs": [],
   "source": []
  },
  {
   "cell_type": "code",
   "execution_count": null,
   "id": "041c27c0",
   "metadata": {},
   "outputs": [],
   "source": []
  }
 ],
 "metadata": {
  "kernelspec": {
   "display_name": "Python 3 (ipykernel)",
   "language": "python",
   "name": "python3"
  },
  "language_info": {
   "codemirror_mode": {
    "name": "ipython",
    "version": 3
   },
   "file_extension": ".py",
   "mimetype": "text/x-python",
   "name": "python",
   "nbconvert_exporter": "python",
   "pygments_lexer": "ipython3",
   "version": "3.11.4"
  }
 },
 "nbformat": 4,
 "nbformat_minor": 5
}
